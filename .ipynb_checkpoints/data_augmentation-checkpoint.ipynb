{
 "cells": [
  {
   "cell_type": "code",
   "execution_count": 1,
   "metadata": {},
   "outputs": [
    {
     "data": {
      "text/plain": [
       "'2.7.12 (default, Nov 12 2018, 14:36:49) \\n[GCC 5.4.0 20160609]'"
      ]
     },
     "execution_count": 1,
     "metadata": {},
     "output_type": "execute_result"
    }
   ],
   "source": [
    "import sys\n",
    "sys.version"
   ]
  },
  {
   "cell_type": "markdown",
   "metadata": {},
   "source": [
    "# Data Process"
   ]
  },
  {
   "cell_type": "code",
   "execution_count": 2,
   "metadata": {},
   "outputs": [],
   "source": [
    "#import pyrealsense2 as rs\n",
    "import numpy as np\n",
    "import cv2\n",
    "import matplotlib.pyplot as plt\n",
    "import os\n",
    "import joblib\n",
    "#import scipy.misc\n",
    "import tensorflow as tf\n",
    "#from skimage.restoration import denoise_tv_chambolle\n",
    "from tensorboardX import SummaryWriter"
   ]
  },
  {
   "cell_type": "code",
   "execution_count": 3,
   "metadata": {},
   "outputs": [
    {
     "name": "stdout",
     "output_type": "stream",
     "text": [
      "('num of data : ', 172)\n"
     ]
    }
   ],
   "source": [
    "pp_path = '/home/obin/t2b_dataset/pickandplace/image'\n",
    "data_list = np.sort([pp_path+'/'+x for x in os.listdir(os.path.join(pp_path,''))])\n",
    "# pp_path = '/home/obin/t2b_dataset/pickandplace/temp/0202'\n",
    "# data_list2 = np.sort([pp_path+'/'+x for x in os.listdir(os.path.join(pp_path,''))])\n",
    "# data_list = np.hstack((data_list[0:-1],data_list2))\n",
    "num_data = len(data_list)\n",
    "print('num of data : ', num_data)"
   ]
  },
  {
   "cell_type": "code",
   "execution_count": 4,
   "metadata": {},
   "outputs": [],
   "source": [
    "def pretty_print_input(arr, ori = False):\n",
    "    arr = np.squeeze(arr)\n",
    "    if ori == True : \n",
    "        s_x, s_y, s_d, s_ori = arr[0:4]\n",
    "        g_x, g_y, g_d, g_ori = arr[4:8]\n",
    "        \n",
    "        print('start pixel        goal pixek')\n",
    "        print('x : %04f    x : %04f'%(s_x,g_x))\n",
    "        print('y : %04f    y : %04f'%(s_y,g_y))\n",
    "        print('z : %04f    z : %04f'%(s_d,g_d))\n",
    "        print('o : %04f    o : %04f'%(s_ori,g_ori))\n",
    "        print('\\n')\n",
    "    else : \n",
    "        s_x, s_y, s_d = arr[0:3]\n",
    "        g_x, g_y, g_d = arr[3:6]\n",
    "        \n",
    "        print('start pixel        goal pixek')\n",
    "        print('x : %04f    x : %04f'%(s_x,g_x))\n",
    "        print('y : %04f    y : %04f'%(s_y,g_y))\n",
    "        print('z : %04f    z : %04f'%(s_d,g_d))\n",
    "        print('\\n')\n",
    "    \n",
    "    \n",
    "def pretty_print_out(arr):\n",
    "    arr = np.squeeze(arr)\n",
    "    s_px, s_py, s_pz, s_ox, s_oy, s_oz, s_ow = arr[0:7]\n",
    "    g_px, g_py, g_pz, g_ox, g_oy, g_oz, g_ow = arr[7:14]\n",
    "    \n",
    "    print('start pose        goal pose')\n",
    "    print('x : %04f    x : %04f'%(s_px,g_px))\n",
    "    print('y : %04f    y : %04f'%(s_py,g_py))\n",
    "    print('z : %04f    z : %04f'%(s_pz,g_pz))\n",
    "    print('x : %04f    x : %04f'%(s_ox,g_ox))\n",
    "    print('y : %04f    y : %04f'%(s_oy,g_oy))\n",
    "    print('z : %04f    z : %04f'%(s_oz,g_oz))\n",
    "    print('w : %04f    w : %04f'%(s_ow,g_ow))\n",
    "    print('\\n')\n",
    "    \n"
   ]
  },
  {
   "cell_type": "markdown",
   "metadata": {},
   "source": [
    "## depth image preprocess"
   ]
  },
  {
   "cell_type": "code",
   "execution_count": 5,
   "metadata": {},
   "outputs": [
    {
     "data": {
      "text/plain": [
       "array(['/home/obin/t2b_dataset/pickandplace/image/0000.png',\n",
       "       '/home/obin/t2b_dataset/pickandplace/image/0001.png',\n",
       "       '/home/obin/t2b_dataset/pickandplace/image/0002.png',\n",
       "       '/home/obin/t2b_dataset/pickandplace/image/0003.png',\n",
       "       '/home/obin/t2b_dataset/pickandplace/image/0004.png',\n",
       "       '/home/obin/t2b_dataset/pickandplace/image/0005.png',\n",
       "       '/home/obin/t2b_dataset/pickandplace/image/0006.png',\n",
       "       '/home/obin/t2b_dataset/pickandplace/image/0007.png',\n",
       "       '/home/obin/t2b_dataset/pickandplace/image/0008.png',\n",
       "       '/home/obin/t2b_dataset/pickandplace/image/0009.png',\n",
       "       '/home/obin/t2b_dataset/pickandplace/image/0010.png',\n",
       "       '/home/obin/t2b_dataset/pickandplace/image/0011.png',\n",
       "       '/home/obin/t2b_dataset/pickandplace/image/0012.png',\n",
       "       '/home/obin/t2b_dataset/pickandplace/image/0013.png',\n",
       "       '/home/obin/t2b_dataset/pickandplace/image/0014.png',\n",
       "       '/home/obin/t2b_dataset/pickandplace/image/0015.png',\n",
       "       '/home/obin/t2b_dataset/pickandplace/image/0016.png',\n",
       "       '/home/obin/t2b_dataset/pickandplace/image/0017.png',\n",
       "       '/home/obin/t2b_dataset/pickandplace/image/0018.png',\n",
       "       '/home/obin/t2b_dataset/pickandplace/image/0019.png',\n",
       "       '/home/obin/t2b_dataset/pickandplace/image/0020.png',\n",
       "       '/home/obin/t2b_dataset/pickandplace/image/0021.png',\n",
       "       '/home/obin/t2b_dataset/pickandplace/image/0022.png',\n",
       "       '/home/obin/t2b_dataset/pickandplace/image/0023.png',\n",
       "       '/home/obin/t2b_dataset/pickandplace/image/0024.png',\n",
       "       '/home/obin/t2b_dataset/pickandplace/image/0025.png',\n",
       "       '/home/obin/t2b_dataset/pickandplace/image/0026.png',\n",
       "       '/home/obin/t2b_dataset/pickandplace/image/0027.png',\n",
       "       '/home/obin/t2b_dataset/pickandplace/image/0028.png',\n",
       "       '/home/obin/t2b_dataset/pickandplace/image/0029.png',\n",
       "       '/home/obin/t2b_dataset/pickandplace/image/0030.png',\n",
       "       '/home/obin/t2b_dataset/pickandplace/image/0031.png',\n",
       "       '/home/obin/t2b_dataset/pickandplace/image/0032.png',\n",
       "       '/home/obin/t2b_dataset/pickandplace/image/0033.png',\n",
       "       '/home/obin/t2b_dataset/pickandplace/image/0034.png',\n",
       "       '/home/obin/t2b_dataset/pickandplace/image/0035.png',\n",
       "       '/home/obin/t2b_dataset/pickandplace/image/0036.png',\n",
       "       '/home/obin/t2b_dataset/pickandplace/image/0037.png',\n",
       "       '/home/obin/t2b_dataset/pickandplace/image/0038.png',\n",
       "       '/home/obin/t2b_dataset/pickandplace/image/0039.png',\n",
       "       '/home/obin/t2b_dataset/pickandplace/image/0040.png',\n",
       "       '/home/obin/t2b_dataset/pickandplace/image/0041.png',\n",
       "       '/home/obin/t2b_dataset/pickandplace/image/0042.png',\n",
       "       '/home/obin/t2b_dataset/pickandplace/image/0043.png',\n",
       "       '/home/obin/t2b_dataset/pickandplace/image/0044.png',\n",
       "       '/home/obin/t2b_dataset/pickandplace/image/0045.png',\n",
       "       '/home/obin/t2b_dataset/pickandplace/image/0046.png',\n",
       "       '/home/obin/t2b_dataset/pickandplace/image/0047.png',\n",
       "       '/home/obin/t2b_dataset/pickandplace/image/0048.png',\n",
       "       '/home/obin/t2b_dataset/pickandplace/image/0049.png',\n",
       "       '/home/obin/t2b_dataset/pickandplace/image/0050.png',\n",
       "       '/home/obin/t2b_dataset/pickandplace/image/0051.png',\n",
       "       '/home/obin/t2b_dataset/pickandplace/image/0052.png',\n",
       "       '/home/obin/t2b_dataset/pickandplace/image/0053.png',\n",
       "       '/home/obin/t2b_dataset/pickandplace/image/0054.png',\n",
       "       '/home/obin/t2b_dataset/pickandplace/image/0055.png',\n",
       "       '/home/obin/t2b_dataset/pickandplace/image/0056.png',\n",
       "       '/home/obin/t2b_dataset/pickandplace/image/0057.png',\n",
       "       '/home/obin/t2b_dataset/pickandplace/image/0058.png',\n",
       "       '/home/obin/t2b_dataset/pickandplace/image/0059.png',\n",
       "       '/home/obin/t2b_dataset/pickandplace/image/0060.png',\n",
       "       '/home/obin/t2b_dataset/pickandplace/image/0061.png',\n",
       "       '/home/obin/t2b_dataset/pickandplace/image/0062.png',\n",
       "       '/home/obin/t2b_dataset/pickandplace/image/0063.png',\n",
       "       '/home/obin/t2b_dataset/pickandplace/image/0064.png',\n",
       "       '/home/obin/t2b_dataset/pickandplace/image/0065.png',\n",
       "       '/home/obin/t2b_dataset/pickandplace/image/0066.png',\n",
       "       '/home/obin/t2b_dataset/pickandplace/image/0067.png',\n",
       "       '/home/obin/t2b_dataset/pickandplace/image/0068.png',\n",
       "       '/home/obin/t2b_dataset/pickandplace/image/0069.png',\n",
       "       '/home/obin/t2b_dataset/pickandplace/image/0070.png',\n",
       "       '/home/obin/t2b_dataset/pickandplace/image/0071.png',\n",
       "       '/home/obin/t2b_dataset/pickandplace/image/0072.png',\n",
       "       '/home/obin/t2b_dataset/pickandplace/image/0073.png',\n",
       "       '/home/obin/t2b_dataset/pickandplace/image/0074.png',\n",
       "       '/home/obin/t2b_dataset/pickandplace/image/0075.png',\n",
       "       '/home/obin/t2b_dataset/pickandplace/image/0076.png',\n",
       "       '/home/obin/t2b_dataset/pickandplace/image/0077.png',\n",
       "       '/home/obin/t2b_dataset/pickandplace/image/0078.png',\n",
       "       '/home/obin/t2b_dataset/pickandplace/image/0079.png',\n",
       "       '/home/obin/t2b_dataset/pickandplace/image/0080.png',\n",
       "       '/home/obin/t2b_dataset/pickandplace/image/0081.png',\n",
       "       '/home/obin/t2b_dataset/pickandplace/image/0082.png',\n",
       "       '/home/obin/t2b_dataset/pickandplace/image/0083.png',\n",
       "       '/home/obin/t2b_dataset/pickandplace/image/0084.png',\n",
       "       '/home/obin/t2b_dataset/pickandplace/image/0085.png',\n",
       "       '/home/obin/t2b_dataset/pickandplace/image/0086.png',\n",
       "       '/home/obin/t2b_dataset/pickandplace/image/0087.png',\n",
       "       '/home/obin/t2b_dataset/pickandplace/image/0088.png',\n",
       "       '/home/obin/t2b_dataset/pickandplace/image/0089.png',\n",
       "       '/home/obin/t2b_dataset/pickandplace/image/0090.png',\n",
       "       '/home/obin/t2b_dataset/pickandplace/image/0091.png',\n",
       "       '/home/obin/t2b_dataset/pickandplace/image/0092.png',\n",
       "       '/home/obin/t2b_dataset/pickandplace/image/0093.png',\n",
       "       '/home/obin/t2b_dataset/pickandplace/image/0094.png',\n",
       "       '/home/obin/t2b_dataset/pickandplace/image/0095.png',\n",
       "       '/home/obin/t2b_dataset/pickandplace/image/0096.png',\n",
       "       '/home/obin/t2b_dataset/pickandplace/image/0097.png',\n",
       "       '/home/obin/t2b_dataset/pickandplace/image/0098.png',\n",
       "       '/home/obin/t2b_dataset/pickandplace/image/0099.png',\n",
       "       '/home/obin/t2b_dataset/pickandplace/image/0100.png',\n",
       "       '/home/obin/t2b_dataset/pickandplace/image/0101.png',\n",
       "       '/home/obin/t2b_dataset/pickandplace/image/0102.png',\n",
       "       '/home/obin/t2b_dataset/pickandplace/image/0103.png',\n",
       "       '/home/obin/t2b_dataset/pickandplace/image/0104.png',\n",
       "       '/home/obin/t2b_dataset/pickandplace/image/0105.png',\n",
       "       '/home/obin/t2b_dataset/pickandplace/image/0106.png',\n",
       "       '/home/obin/t2b_dataset/pickandplace/image/0107.png',\n",
       "       '/home/obin/t2b_dataset/pickandplace/image/0108.png',\n",
       "       '/home/obin/t2b_dataset/pickandplace/image/0109.png',\n",
       "       '/home/obin/t2b_dataset/pickandplace/image/0110.png',\n",
       "       '/home/obin/t2b_dataset/pickandplace/image/0111.png',\n",
       "       '/home/obin/t2b_dataset/pickandplace/image/0112.png',\n",
       "       '/home/obin/t2b_dataset/pickandplace/image/0113.png',\n",
       "       '/home/obin/t2b_dataset/pickandplace/image/0114.png',\n",
       "       '/home/obin/t2b_dataset/pickandplace/image/0115.png',\n",
       "       '/home/obin/t2b_dataset/pickandplace/image/0116.png',\n",
       "       '/home/obin/t2b_dataset/pickandplace/image/0117.png',\n",
       "       '/home/obin/t2b_dataset/pickandplace/image/0118.png',\n",
       "       '/home/obin/t2b_dataset/pickandplace/image/0119.png',\n",
       "       '/home/obin/t2b_dataset/pickandplace/image/0120.png',\n",
       "       '/home/obin/t2b_dataset/pickandplace/image/0121.png',\n",
       "       '/home/obin/t2b_dataset/pickandplace/image/0122.png',\n",
       "       '/home/obin/t2b_dataset/pickandplace/image/0123.png',\n",
       "       '/home/obin/t2b_dataset/pickandplace/image/0124.png',\n",
       "       '/home/obin/t2b_dataset/pickandplace/image/0125.png',\n",
       "       '/home/obin/t2b_dataset/pickandplace/image/0126.png',\n",
       "       '/home/obin/t2b_dataset/pickandplace/image/0127.png',\n",
       "       '/home/obin/t2b_dataset/pickandplace/image/0128.png',\n",
       "       '/home/obin/t2b_dataset/pickandplace/image/0129.png',\n",
       "       '/home/obin/t2b_dataset/pickandplace/image/0130.png',\n",
       "       '/home/obin/t2b_dataset/pickandplace/image/0131.png',\n",
       "       '/home/obin/t2b_dataset/pickandplace/image/0132.png',\n",
       "       '/home/obin/t2b_dataset/pickandplace/image/0133.png',\n",
       "       '/home/obin/t2b_dataset/pickandplace/image/0134.png',\n",
       "       '/home/obin/t2b_dataset/pickandplace/image/0135.png',\n",
       "       '/home/obin/t2b_dataset/pickandplace/image/0136.png',\n",
       "       '/home/obin/t2b_dataset/pickandplace/image/0137.png',\n",
       "       '/home/obin/t2b_dataset/pickandplace/image/0138.png',\n",
       "       '/home/obin/t2b_dataset/pickandplace/image/0139.png',\n",
       "       '/home/obin/t2b_dataset/pickandplace/image/0140.png',\n",
       "       '/home/obin/t2b_dataset/pickandplace/image/0141.png',\n",
       "       '/home/obin/t2b_dataset/pickandplace/image/0142.png',\n",
       "       '/home/obin/t2b_dataset/pickandplace/image/0143.png',\n",
       "       '/home/obin/t2b_dataset/pickandplace/image/0144.png',\n",
       "       '/home/obin/t2b_dataset/pickandplace/image/0145.png',\n",
       "       '/home/obin/t2b_dataset/pickandplace/image/0146.png',\n",
       "       '/home/obin/t2b_dataset/pickandplace/image/0147.png',\n",
       "       '/home/obin/t2b_dataset/pickandplace/image/0148.png',\n",
       "       '/home/obin/t2b_dataset/pickandplace/image/0149.png',\n",
       "       '/home/obin/t2b_dataset/pickandplace/image/0150.png',\n",
       "       '/home/obin/t2b_dataset/pickandplace/image/0151.png',\n",
       "       '/home/obin/t2b_dataset/pickandplace/image/0152.png',\n",
       "       '/home/obin/t2b_dataset/pickandplace/image/0153.png',\n",
       "       '/home/obin/t2b_dataset/pickandplace/image/0154.png',\n",
       "       '/home/obin/t2b_dataset/pickandplace/image/0155.png',\n",
       "       '/home/obin/t2b_dataset/pickandplace/image/0156.png',\n",
       "       '/home/obin/t2b_dataset/pickandplace/image/0157.png',\n",
       "       '/home/obin/t2b_dataset/pickandplace/image/0158.png',\n",
       "       '/home/obin/t2b_dataset/pickandplace/image/0159.png',\n",
       "       '/home/obin/t2b_dataset/pickandplace/image/0160.png',\n",
       "       '/home/obin/t2b_dataset/pickandplace/image/0161.png',\n",
       "       '/home/obin/t2b_dataset/pickandplace/image/0162.png',\n",
       "       '/home/obin/t2b_dataset/pickandplace/image/0163.png',\n",
       "       '/home/obin/t2b_dataset/pickandplace/image/0164.png',\n",
       "       '/home/obin/t2b_dataset/pickandplace/image/0165.png',\n",
       "       '/home/obin/t2b_dataset/pickandplace/image/0166.png',\n",
       "       '/home/obin/t2b_dataset/pickandplace/image/0167.png',\n",
       "       '/home/obin/t2b_dataset/pickandplace/image/0168.png',\n",
       "       '/home/obin/t2b_dataset/pickandplace/image/0169.png',\n",
       "       '/home/obin/t2b_dataset/pickandplace/image/0170.png',\n",
       "       '/home/obin/t2b_dataset/pickandplace/image/0171.png'], dtype='|S50')"
      ]
     },
     "execution_count": 5,
     "metadata": {},
     "output_type": "execute_result"
    }
   ],
   "source": [
    "#np.random.shuffle(data_list)\n",
    "data_list"
   ]
  },
  {
   "cell_type": "code",
   "execution_count": 15,
   "metadata": {
    "scrolled": true
   },
   "outputs": [
    {
     "ename": "ValueError",
     "evalue": "zero-size array to reduction operation minimum which has no identity",
     "output_type": "error",
     "traceback": [
      "\u001b[0;31m---------------------------------------------------------------------------\u001b[0m",
      "\u001b[0;31mValueError\u001b[0m                                Traceback (most recent call last)",
      "\u001b[0;32m<ipython-input-15-b5d0bcd10d24>\u001b[0m in \u001b[0;36m<module>\u001b[0;34m()\u001b[0m\n\u001b[1;32m     23\u001b[0m         \u001b[0mimgray\u001b[0m \u001b[0;34m=\u001b[0m \u001b[0mcv2\u001b[0m\u001b[0;34m.\u001b[0m\u001b[0mcvtColor\u001b[0m\u001b[0;34m(\u001b[0m\u001b[0mimage\u001b[0m\u001b[0;34m,\u001b[0m\u001b[0mcv2\u001b[0m\u001b[0;34m.\u001b[0m\u001b[0mCOLOR_RGB2GRAY\u001b[0m\u001b[0;34m)\u001b[0m\u001b[0;34m\u001b[0m\u001b[0m\n\u001b[1;32m     24\u001b[0m         \u001b[0;34m(\u001b[0m\u001b[0mx\u001b[0m\u001b[0;34m,\u001b[0m \u001b[0my\u001b[0m\u001b[0;34m)\u001b[0m \u001b[0;34m=\u001b[0m \u001b[0mnp\u001b[0m\u001b[0;34m.\u001b[0m\u001b[0mwhere\u001b[0m\u001b[0;34m(\u001b[0m\u001b[0mimgray\u001b[0m \u001b[0;34m==\u001b[0m \u001b[0;36m255\u001b[0m\u001b[0;34m)\u001b[0m\u001b[0;34m\u001b[0m\u001b[0m\n\u001b[0;32m---> 25\u001b[0;31m         \u001b[0;34m(\u001b[0m\u001b[0mtopx\u001b[0m\u001b[0;34m,\u001b[0m \u001b[0mtopy\u001b[0m\u001b[0;34m)\u001b[0m \u001b[0;34m=\u001b[0m \u001b[0;34m(\u001b[0m\u001b[0mnp\u001b[0m\u001b[0;34m.\u001b[0m\u001b[0mmin\u001b[0m\u001b[0;34m(\u001b[0m\u001b[0mx\u001b[0m\u001b[0;34m)\u001b[0m\u001b[0;34m,\u001b[0m \u001b[0mnp\u001b[0m\u001b[0;34m.\u001b[0m\u001b[0mmin\u001b[0m\u001b[0;34m(\u001b[0m\u001b[0my\u001b[0m\u001b[0;34m)\u001b[0m\u001b[0;34m)\u001b[0m\u001b[0;34m\u001b[0m\u001b[0m\n\u001b[0m\u001b[1;32m     26\u001b[0m         \u001b[0;34m(\u001b[0m\u001b[0mbottomx\u001b[0m\u001b[0;34m,\u001b[0m \u001b[0mbottomy\u001b[0m\u001b[0;34m)\u001b[0m \u001b[0;34m=\u001b[0m \u001b[0;34m(\u001b[0m\u001b[0mnp\u001b[0m\u001b[0;34m.\u001b[0m\u001b[0mmax\u001b[0m\u001b[0;34m(\u001b[0m\u001b[0mx\u001b[0m\u001b[0;34m)\u001b[0m\u001b[0;34m,\u001b[0m \u001b[0mnp\u001b[0m\u001b[0;34m.\u001b[0m\u001b[0mmax\u001b[0m\u001b[0;34m(\u001b[0m\u001b[0my\u001b[0m\u001b[0;34m)\u001b[0m\u001b[0;34m)\u001b[0m\u001b[0;34m\u001b[0m\u001b[0m\n\u001b[1;32m     27\u001b[0m         \u001b[0mout\u001b[0m \u001b[0;34m=\u001b[0m \u001b[0mnp\u001b[0m\u001b[0;34m.\u001b[0m\u001b[0mzeros_like\u001b[0m\u001b[0;34m(\u001b[0m\u001b[0mimg\u001b[0m\u001b[0;34m)\u001b[0m\u001b[0;34m\u001b[0m\u001b[0m\n",
      "\u001b[0;32m/home/obin/.local/lib/python2.7/site-packages/numpy/core/fromnumeric.pyc\u001b[0m in \u001b[0;36mamin\u001b[0;34m(a, axis, out, keepdims, initial)\u001b[0m\n\u001b[1;32m   2616\u001b[0m     \"\"\"\n\u001b[1;32m   2617\u001b[0m     return _wrapreduction(a, np.minimum, 'min', axis, None, out, keepdims=keepdims,\n\u001b[0;32m-> 2618\u001b[0;31m                           initial=initial)\n\u001b[0m\u001b[1;32m   2619\u001b[0m \u001b[0;34m\u001b[0m\u001b[0m\n\u001b[1;32m   2620\u001b[0m \u001b[0;34m\u001b[0m\u001b[0m\n",
      "\u001b[0;32m/home/obin/.local/lib/python2.7/site-packages/numpy/core/fromnumeric.pyc\u001b[0m in \u001b[0;36m_wrapreduction\u001b[0;34m(obj, ufunc, method, axis, dtype, out, **kwargs)\u001b[0m\n\u001b[1;32m     84\u001b[0m                 \u001b[0;32mreturn\u001b[0m \u001b[0mreduction\u001b[0m\u001b[0;34m(\u001b[0m\u001b[0maxis\u001b[0m\u001b[0;34m=\u001b[0m\u001b[0maxis\u001b[0m\u001b[0;34m,\u001b[0m \u001b[0mout\u001b[0m\u001b[0;34m=\u001b[0m\u001b[0mout\u001b[0m\u001b[0;34m,\u001b[0m \u001b[0;34m**\u001b[0m\u001b[0mpasskwargs\u001b[0m\u001b[0;34m)\u001b[0m\u001b[0;34m\u001b[0m\u001b[0m\n\u001b[1;32m     85\u001b[0m \u001b[0;34m\u001b[0m\u001b[0m\n\u001b[0;32m---> 86\u001b[0;31m     \u001b[0;32mreturn\u001b[0m \u001b[0mufunc\u001b[0m\u001b[0;34m.\u001b[0m\u001b[0mreduce\u001b[0m\u001b[0;34m(\u001b[0m\u001b[0mobj\u001b[0m\u001b[0;34m,\u001b[0m \u001b[0maxis\u001b[0m\u001b[0;34m,\u001b[0m \u001b[0mdtype\u001b[0m\u001b[0;34m,\u001b[0m \u001b[0mout\u001b[0m\u001b[0;34m,\u001b[0m \u001b[0;34m**\u001b[0m\u001b[0mpasskwargs\u001b[0m\u001b[0;34m)\u001b[0m\u001b[0;34m\u001b[0m\u001b[0m\n\u001b[0m\u001b[1;32m     87\u001b[0m \u001b[0;34m\u001b[0m\u001b[0m\n\u001b[1;32m     88\u001b[0m \u001b[0;34m\u001b[0m\u001b[0m\n",
      "\u001b[0;31mValueError\u001b[0m: zero-size array to reduction operation minimum which has no identity"
     ]
    }
   ],
   "source": [
    "## x_array = []\n",
    "x_ori_array = []\n",
    "y_array = []\n",
    "mean_depth = 0\n",
    "caution = []\n",
    "# resume = int(input('where do you want to start from? : '))\n",
    "resume = 0\n",
    "for i in range(resume, num_data):\n",
    "    img = cv2.imread(data_list[i])\n",
    "    imgray = cv2.cvtColor(img,cv2.COLOR_BGR2GRAY)\n",
    "\n",
    "    ret, thresh = cv2.threshold(imgray,70,255,0)\n",
    "\n",
    "    image, contours, hierachy = cv2.findContours(thresh, cv2.RETR_TREE,cv2.CHAIN_APPROX_SIMPLE)\n",
    "    hull = []\n",
    "    for c in contours :\n",
    "        hull = cv2.convexHull(c)\n",
    "        image = cv2.drawContours(img, hull, -1, 255, -1)\n",
    "        cv2.imshow('image', image)\n",
    "        key = cv2.waitKey()\n",
    "        cv2.destroyAllWindows()\n",
    "        \n",
    "        imgray = cv2.cvtColor(image,cv2.COLOR_BGR2GRAY)\n",
    "        (x, y) = np.where(imgray == 255)\n",
    "        (topx, topy) = (np.min(x), np.min(y))\n",
    "        (bottomx, bottomy) = (np.max(x), np.max(y))\n",
    "        out = np.zeros_like(img)\n",
    "        out = image[topx:bottomx+1, topy:bottomy+1]\n",
    "\n",
    "\n",
    "        #cv2.drawContours(image,hull, 0,(0,255,0), 3)\n",
    "        cv2.imshow('crop', out)\n",
    "        key = cv2.waitKey()\n",
    "        cv2.destroyAllWindows()\n",
    "        if key & 0xFF == ord('q') or key == 27:\n",
    "            cv2.destroyAllWindows()\n",
    "            break\n",
    "    if key & 0xFF == ord('q') or key == 27:\n",
    "        cv2.destroyAllWindows()\n",
    "        break\n",
    "\n",
    "\n",
    "    # Show the output image\n",
    "    cv2.imshow('Output', out)\n",
    "    cv2.waitKey(0)\n",
    "    cv2.destroyAllWindows()\n",
    "    \n"
   ]
  },
  {
   "cell_type": "code",
   "execution_count": 13,
   "metadata": {},
   "outputs": [
    {
     "data": {
      "text/plain": [
       "array([[[ 45, 135]],\n",
       "\n",
       "       [[ 44, 136]],\n",
       "\n",
       "       [[ 43, 135]],\n",
       "\n",
       "       [[ 44, 134]]], dtype=int32)"
      ]
     },
     "execution_count": 13,
     "metadata": {},
     "output_type": "execute_result"
    }
   ],
   "source": [
    "hull"
   ]
  },
  {
   "cell_type": "code",
   "execution_count": 8,
   "metadata": {},
   "outputs": [],
   "source": [
    "curr_data = cv2.imread('/home/obin/t2b_dataset/pickandplace/image/0027.png')"
   ]
  },
  {
   "cell_type": "code",
   "execution_count": 9,
   "metadata": {},
   "outputs": [],
   "source": [
    "cv2.imshow('image', curr_data)\n",
    "cv2.waitKey(1)\n",
    "cv2.destroyAllWindows()"
   ]
  },
  {
   "cell_type": "code",
   "execution_count": 10,
   "metadata": {},
   "outputs": [],
   "source": [
    "img = cv2.imread('/home/obin/t2b_dataset/pickandplace/image/0027.png')\n",
    "imgray = cv2.cvtColor(img,cv2.COLOR_BGR2GRAY)\n",
    "\n",
    "#threshold를 이용하여 binary image로 변환\n",
    "ret, thresh = cv2.threshold(imgray,153,255,0)\n",
    "\n",
    "#contours는 point의 list형태. 예제에서는 사각형이 하나의 contours line을 구성하기 때문에 len(contours) = 1. 값은 사각형의 꼭지점 좌표.\n",
    "#hierachy는 contours line의 계층 구조\n",
    "image, contours, hierachy = cv2.findContours(thresh, cv2.RETR_TREE,cv2.CHAIN_APPROX_SIMPLE)\n",
    "image = cv2.drawContours(img, contours, -1, (0,255,0), 3)\n",
    "\n",
    "cv2.imshow('image', image)\n",
    "cv2.waitKey(50)\n",
    "cv2.destroyAllWindows()"
   ]
  },
  {
   "cell_type": "markdown",
   "metadata": {},
   "source": [
    "# Miscellaneous"
   ]
  },
  {
   "cell_type": "code",
   "execution_count": 11,
   "metadata": {},
   "outputs": [
    {
     "ename": "IndexError",
     "evalue": "only integers, slices (`:`), ellipsis (`...`), numpy.newaxis (`None`) and integer or boolean arrays are valid indices",
     "output_type": "error",
     "traceback": [
      "\u001b[0;31m---------------------------------------------------------------------------\u001b[0m",
      "\u001b[0;31mIndexError\u001b[0m                                Traceback (most recent call last)",
      "\u001b[0;32m<ipython-input-11-3c33ed85773f>\u001b[0m in \u001b[0;36m<module>\u001b[0;34m()\u001b[0m\n\u001b[0;32m----> 1\u001b[0;31m \u001b[0mcurr_data\u001b[0m\u001b[0;34m[\u001b[0m\u001b[0;34m'pick'\u001b[0m\u001b[0;34m]\u001b[0m\u001b[0;34m[\u001b[0m\u001b[0;36m0\u001b[0m\u001b[0;34m]\u001b[0m\u001b[0;34m.\u001b[0m\u001b[0mx\u001b[0m \u001b[0;34m=\u001b[0m \u001b[0;36m0.762535\u001b[0m\u001b[0;34m\u001b[0m\u001b[0m\n\u001b[0m\u001b[1;32m      2\u001b[0m \u001b[0mcurr_data\u001b[0m\u001b[0;34m[\u001b[0m\u001b[0;34m'pick'\u001b[0m\u001b[0;34m]\u001b[0m\u001b[0;34m[\u001b[0m\u001b[0;36m0\u001b[0m\u001b[0;34m]\u001b[0m\u001b[0;34m.\u001b[0m\u001b[0my\u001b[0m \u001b[0;34m=\u001b[0m \u001b[0;34m-\u001b[0m\u001b[0;36m0.087674\u001b[0m\u001b[0;34m\u001b[0m\u001b[0m\n\u001b[1;32m      3\u001b[0m \u001b[0mcurr_data\u001b[0m\u001b[0;34m[\u001b[0m\u001b[0;34m'pick'\u001b[0m\u001b[0;34m]\u001b[0m\u001b[0;34m[\u001b[0m\u001b[0;36m0\u001b[0m\u001b[0;34m]\u001b[0m\u001b[0;34m.\u001b[0m\u001b[0mz\u001b[0m \u001b[0;34m=\u001b[0m \u001b[0;34m-\u001b[0m\u001b[0;36m0.201498\u001b[0m\u001b[0;34m\u001b[0m\u001b[0m\n\u001b[1;32m      4\u001b[0m \u001b[0mcurr_data\u001b[0m\u001b[0;34m[\u001b[0m\u001b[0;34m'pick'\u001b[0m\u001b[0;34m]\u001b[0m\u001b[0;34m[\u001b[0m\u001b[0;36m1\u001b[0m\u001b[0;34m]\u001b[0m\u001b[0;34m.\u001b[0m\u001b[0mx\u001b[0m \u001b[0;34m=\u001b[0m \u001b[0;34m-\u001b[0m\u001b[0;36m0.02277\u001b[0m\u001b[0;34m\u001b[0m\u001b[0m\n\u001b[1;32m      5\u001b[0m \u001b[0mcurr_data\u001b[0m\u001b[0;34m[\u001b[0m\u001b[0;34m'pick'\u001b[0m\u001b[0;34m]\u001b[0m\u001b[0;34m[\u001b[0m\u001b[0;36m1\u001b[0m\u001b[0;34m]\u001b[0m\u001b[0;34m.\u001b[0m\u001b[0my\u001b[0m \u001b[0;34m=\u001b[0m \u001b[0;36m0.9879628\u001b[0m\u001b[0;34m\u001b[0m\u001b[0m\n",
      "\u001b[0;31mIndexError\u001b[0m: only integers, slices (`:`), ellipsis (`...`), numpy.newaxis (`None`) and integer or boolean arrays are valid indices"
     ]
    }
   ],
   "source": [
    "curr_data['pick'][0].x = 0.762535\n",
    "curr_data['pick'][0].y = -0.087674\n",
    "curr_data['pick'][0].z = -0.201498\n",
    "curr_data['pick'][1].x = -0.02277\n",
    "curr_data['pick'][1].y = 0.9879628\n",
    "curr_data['pick'][1].z = -0.01236\n",
    "curr_data['pick'][1].w = 0.1152506"
   ]
  },
  {
   "cell_type": "code",
   "execution_count": null,
   "metadata": {},
   "outputs": [],
   "source": [
    "curr_data['pick']"
   ]
  },
  {
   "cell_type": "code",
   "execution_count": null,
   "metadata": {},
   "outputs": [],
   "source": [
    "curr_data['place']"
   ]
  },
  {
   "cell_type": "code",
   "execution_count": null,
   "metadata": {},
   "outputs": [],
   "source": [
    "joblib.dump(curr_data, os.path.join(pp_path,'/home/obin/t2b_dataset/pickandplace/data/0075.dat.gz'))"
   ]
  }
 ],
 "metadata": {
  "kernelspec": {
   "display_name": "Python 2",
   "language": "python",
   "name": "python2"
  },
  "language_info": {
   "codemirror_mode": {
    "name": "ipython",
    "version": 2
   },
   "file_extension": ".py",
   "mimetype": "text/x-python",
   "name": "python",
   "nbconvert_exporter": "python",
   "pygments_lexer": "ipython2",
   "version": "2.7.12"
  }
 },
 "nbformat": 4,
 "nbformat_minor": 2
}
